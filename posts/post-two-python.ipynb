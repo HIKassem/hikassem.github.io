{
 "cells": [
  {
   "cell_type": "markdown",
   "metadata": {},
   "source": [
    "Write your post here."
   ]
  }
 ],
 "metadata": {
  "kernelspec": {
   "display_name": "Python 3",
   "env": {},
   "language": "python",
   "name": "python3"
  },
  "nikola": {
   "category": "",
   "date": "2016-05-22 13:13:36 UTC+01:00",
   "description": "",
   "link": "",
   "slug": "post-two-python",
   "tags": "",
   "title": "Post two python",
   "type": "text"
  }
 },
 "nbformat": 4,
 "nbformat_minor": 0
}
